{
 "cells": [
  {
   "cell_type": "markdown",
   "metadata": {},
   "source": [
    "# Actualizar datos"
   ]
  },
  {
   "cell_type": "markdown",
   "metadata": {},
   "source": [
    "## Descripción\n",
    "El proceso para actualizar los datos diariamente consiste en los siguientes pasos:\n",
    "\n",
    "1. Descargar archivos.\n",
    "2. Procesar el `pdf` y convertir en `tsv`.\n",
    "3. Agregar información a la tabla de relación fecha-archivo.\n",
    "4. Actualizar tabla general.\n",
    "5. Revisión de inconsistencias."
   ]
  },
  {
   "cell_type": "markdown",
   "metadata": {},
   "source": [
    "## Código"
   ]
  },
  {
   "cell_type": "code",
   "execution_count": 1,
   "metadata": {},
   "outputs": [],
   "source": [
    "import requests\n",
    "from bs4 import BeautifulSoup\n",
    "import camelot\n",
    "import pandas as pd\n",
    "import datetime\n",
    "import numpy as np"
   ]
  },
  {
   "cell_type": "code",
   "execution_count": 2,
   "metadata": {},
   "outputs": [],
   "source": [
    "def extract_documents(url, outdir='.'):\n",
    "    '''\n",
    "    Descarga de documentos de la página de la Secretaría de Salud\n",
    "    '''\n",
    "    \n",
    "    # obtener sitio\n",
    "    page = requests.get(url)\n",
    "    soup = BeautifulSoup(page.content, 'html.parser')\n",
    "    \n",
    "    # encotnrar seccion de documentos\n",
    "    # 2020.03.25: Seccion de documentos bajo <div class=\"clearfix\">\n",
    "    documents = soup.find('div', attrs={'class': 'clearfix'})\n",
    "            \n",
    "    # links de los documentos\n",
    "    file_urls = []\n",
    "    \n",
    "    for href in documents.find_all('a', href=True):\n",
    "        file_urls.append(href['href'])\n",
    "        \n",
    "    # descargar\n",
    "    for i in range(len(file_urls)):\n",
    "        file_url = file_urls[i]\n",
    "        file_name = file_urls[i].split('/')[-1]\n",
    "        response = requests.get(f'https://www.gob.mx{file_url}')\n",
    "        \n",
    "        with open(f'{outdir}/{file_name}', 'wb') as f:\n",
    "            f.write(response.content)\n",
    "            print(f'Archivo: {file_name}... descargado.')\n",
    "\n",
    "def parse_pdf(file, paginas='all', casos_nuevos=None):\n",
    "    '''\n",
    "    \n",
    "    '''\n",
    "    tables = camelot.read_pdf(file, pages=paginas, flavor='stream', row_tol=10)\n",
    "    print('{} paginas'.format(tables.n))\n",
    "\n",
    "    # juntar todas las tablas\n",
    "    tables_list = []\n",
    "    for i in range(0,tables.n):\n",
    "        df_i = tables[i].df\n",
    "        \n",
    "        # buscar columnas con nan\n",
    "        df_i= df_i.replace(r'^\\s*$', np.nan, regex=True)\n",
    "        df_i = df_i.replace('NA', np.nan)\n",
    "        \n",
    "        # remove na columns\n",
    "        df_i = df_i.dropna(axis='columns', thresh=10)\n",
    "        df_i = df_i.T.reset_index(drop=True).T\n",
    "        \n",
    "        # quitar filas de titulo\n",
    "        # por si proceso una pagina vacia\n",
    "        if len(df_i.columns) != 0:\n",
    "            df_i[0] = df_i[0].fillna('notnum')\n",
    "            df_i = df_i[df_i[0].apply(lambda x: x.isnumeric())]\n",
    "        \n",
    "            # argregar a lista\n",
    "            tables_list.append(df_i)\n",
    "\n",
    "    # juntar tabla unica\n",
    "    df = pd.concat(tables_list)\n",
    "    \n",
    "    \n",
    "    # renombrar columnas\n",
    "    df.columns = ['num_caso', 'estado', 'sexo', 'edad', 'fecha_inicio_sintomas', 'id_rt-pcr', 'procedencia', 'fecha_llegada_mx']\n",
    "    \n",
    "    # actualizar index\n",
    "    df.set_index('num_caso', inplace=True, verify_integrity=True)\n",
    "    df.index.name = None\n",
    "    \n",
    "    # convertir a datetime format\n",
    "    df['fecha_inicio_sintomas'] = pd.to_datetime(df['fecha_inicio_sintomas'], format='%d/%m/%Y')\n",
    "    df['fecha_llegada_mx'] = pd.to_datetime(df['fecha_llegada_mx'], format='%d/%m/%Y')\n",
    "    \n",
    "    # limpiar nombres de estados\n",
    "    df['estado'] = df['estado'].str.title()\n",
    "    df['estado'] = df['estado'].str.replace('Ciudad De México', 'Ciudad de México')\n",
    "    df['estado'] = df['estado'].str.replace('\"Estados \\nUnidos\"', 'Estados Unidos')\n",
    "    \n",
    "    # CASOS NUEVOS\n",
    "    \n",
    "    if casos_nuevos:\n",
    "        # interpretar string de casos nuevos\n",
    "        # by: https://stackoverflow.com/users/190597/unutbu\n",
    "        # in: https://stackoverflow.com/questions/4726168/parsing-command-line-input-for-numbers\n",
    "        result = set()\n",
    "\n",
    "        for part in casos_nuevos.split(','):\n",
    "            x = part.split('-')\n",
    "            result.update(range(int(x[0]), int(x[-1]) + 1))\n",
    "\n",
    "        lista_casos_nuevos = sorted(result)\n",
    "\n",
    "        # generar lista con anotaciones de casos nuevos\n",
    "        lista_nuevos = []\n",
    "\n",
    "        for i in df.index:\n",
    "                if int(i) in lista_casos_nuevos:\n",
    "                    lista_nuevos.append(True)\n",
    "                else:\n",
    "                    lista_nuevos.append(False)\n",
    "\n",
    "        df['casos_nuevos'] = lista_nuevos\n",
    "    \n",
    "    else:\n",
    "        print('No se agregara información sobre casos nuevos. (Celdas en azul.)')\n",
    "\n",
    "    return df\n",
    "\n",
    "def save_tsv(pdf_name, save_name, celdas_azules):\n",
    "    \n",
    "    df = parse_pdf(f'{pdf_name}',\n",
    "                   paginas='all',\n",
    "                   casos_nuevos=celdas_azules)\n",
    "    \n",
    "    df.to_csv(f'{save_name}',\n",
    "              sep='\\t',\n",
    "              index=True)\n",
    "\n",
    "def create_dict(df_files):\n",
    "    \n",
    "    dict_df = {}\n",
    "    \n",
    "    for column, row in df_files.iterrows():\n",
    "        df = pd.read_csv(row['archivo_tsv'],\n",
    "                         sep='\\t',\n",
    "                         parse_dates=['fecha_inicio_sintomas', 'fecha_llegada_mx'],\n",
    "                         index_col=0)\n",
    "\n",
    "        dict_df[row['fecha']] = df\n",
    "    \n",
    "    return dict_df\n",
    "\n",
    "def inconsistencias(dict_tablas):\n",
    "    \n",
    "    results = []\n",
    "    \n",
    "    ordered_dates = sorted(dict_tablas.keys())\n",
    "    \n",
    "    for date_1, date_2 in zip(ordered_dates, ordered_dates[1:]):\n",
    "\n",
    "        df1 = dict_df[date_1]\n",
    "        df2 = dict_df[date_2]\n",
    "\n",
    "        # diferencia de longitud entre dos días\n",
    "        len_diff = len(df2) - len(df1)\n",
    "\n",
    "        # seleccionar solo casos nuevos en día 2\n",
    "        nuevos = len(df2[df2['casos_nuevos'] == True])\n",
    "\n",
    "        date_1_str = date_1.strftime('%d-%m-%Y')\n",
    "        date_2_str = date_2.strftime('%d-%m-%Y')\n",
    "\n",
    "        if len_diff == nuevos:\n",
    "            print(f'{date_1_str} a {date_2_str}: ✓')\n",
    "\n",
    "        else:\n",
    "            print(f'{date_1_str} a {date_2_str}: inconsistente por {len_diff-nuevos}')\n",
    "\n",
    "\n",
    "            # add dates\n",
    "            df1['casos_nuevos'] = df1['casos_nuevos'].replace(True, date_1)\n",
    "            df2['casos_nuevos'] = df2['casos_nuevos'].replace(True, date_2)\n",
    "\n",
    "            # add pseudo index\n",
    "            df1['pseudo_indice'] = date_1.strftime('%Y%m%d_') + df1.index.astype(str)\n",
    "            df2['pseudo_indice'] = date_2.strftime('%Y%m%d_') + df2.index.astype(str)\n",
    "\n",
    "            # check duplicates\n",
    "            df_joint = pd.concat([df1, df2[df2['casos_nuevos'] == False]])\n",
    "\n",
    "\n",
    "            df_joint['duplicado'] = df_joint.duplicated(subset=['estado', 'sexo', 'edad', 'fecha_inicio_sintomas', 'procedencia'], keep=False)\n",
    "\n",
    "            df_inc = df_joint[df_joint['duplicado'] == False]\n",
    "            df_inc.info = f'{date_1_str} a {date_2_str}: inconsistente por {len_diff-nuevos}'\n",
    "            \n",
    "            #df_inc.to_csv('../datos/tablas_procesadas/err_log/{}-{}.tsv'.format(date_1_str, date_2_str),\n",
    "             #             sep='\\t',\n",
    "              #            index=None)\n",
    "            \n",
    "            results.append(df_inc)\n",
    "            \n",
    "    return results\n",
    "\n",
    "def update(df_files, df_completa):\n",
    "    \n",
    "    dict_df = create_dict(df_files)\n",
    "    \n",
    "    # encontrar fecha mas reciente añadida a la tabla completa\n",
    "    mas_reciente = sorted(df_completa['fecha_caso_nuevo'].to_list())[-1]\n",
    "    # encontrar fechas en los archivos que no han sido añadidas a la tabla completa\n",
    "    to_update = [date for date in sorted(df_files['fecha'].to_list()) if date > mas_reciente]\n",
    "    \n",
    "    if len(to_update) == 0:\n",
    "        print('No hay nada que actualizar.')\n",
    "        \n",
    "    else:\n",
    "        for date in to_update:\n",
    "            # leer tabla\n",
    "            df_update = dict_df[date]\n",
    "\n",
    "            # add pseudo index\n",
    "            df_update['pseudo_indice'] = date.strftime('%Y%m%d_') + df_update.index.astype(str)\n",
    "            df_update = df_update[df_update['casos_nuevos'] != False]\n",
    "\n",
    "            # agregar fechas a las nuevas\n",
    "            df_update = df_update.copy()\n",
    "            df_update['fecha_caso_nuevo'] = df_update['casos_nuevos'].replace(True, date)\n",
    "            df_update = df_update.drop(columns=['casos_nuevos'])\n",
    "\n",
    "            df_update = df_update[['pseudo_indice', 'estado', 'sexo', 'edad', 'fecha_inicio_sintomas', \n",
    "                     'id_rt-pcr', 'procedencia', 'fecha_llegada_mx', 'fecha_caso_nuevo']]\n",
    "\n",
    "            # agregar a df anterior\n",
    "            df_nuevo = pd.concat([df_completa, df_update])\n",
    "\n",
    "        return df_nuevo"
   ]
  },
  {
   "cell_type": "markdown",
   "metadata": {},
   "source": [
    "Leer tabla completa"
   ]
  },
  {
   "cell_type": "code",
   "execution_count": 11,
   "metadata": {},
   "outputs": [],
   "source": [
    "df_completa = pd.read_csv('../datos/tablas_procesadas/tabla_completa.tsv',\n",
    "                          sep='\\t',\n",
    "                          parse_dates=['fecha_inicio_sintomas', 'fecha_llegada_mx', 'fecha_caso_nuevo'])"
   ]
  },
  {
   "cell_type": "code",
   "execution_count": 12,
   "metadata": {},
   "outputs": [
    {
     "data": {
      "text/html": [
       "<div>\n",
       "<style scoped>\n",
       "    .dataframe tbody tr th:only-of-type {\n",
       "        vertical-align: middle;\n",
       "    }\n",
       "\n",
       "    .dataframe tbody tr th {\n",
       "        vertical-align: top;\n",
       "    }\n",
       "\n",
       "    .dataframe thead th {\n",
       "        text-align: right;\n",
       "    }\n",
       "</style>\n",
       "<table border=\"1\" class=\"dataframe\">\n",
       "  <thead>\n",
       "    <tr style=\"text-align: right;\">\n",
       "      <th></th>\n",
       "      <th>pseudo_indice</th>\n",
       "      <th>estado</th>\n",
       "      <th>sexo</th>\n",
       "      <th>edad</th>\n",
       "      <th>fecha_inicio_sintomas</th>\n",
       "      <th>id_rt-pcr</th>\n",
       "      <th>procedencia</th>\n",
       "      <th>fecha_llegada_mx</th>\n",
       "      <th>fecha_caso_nuevo</th>\n",
       "    </tr>\n",
       "  </thead>\n",
       "  <tbody>\n",
       "    <tr>\n",
       "      <th>0</th>\n",
       "      <td>20200316_1</td>\n",
       "      <td>Ciudad de México</td>\n",
       "      <td>M</td>\n",
       "      <td>35</td>\n",
       "      <td>2020-02-22</td>\n",
       "      <td>confirmado</td>\n",
       "      <td>Italia</td>\n",
       "      <td>2020-02-22</td>\n",
       "      <td>NaT</td>\n",
       "    </tr>\n",
       "    <tr>\n",
       "      <th>1</th>\n",
       "      <td>20200316_2</td>\n",
       "      <td>Sinaloa</td>\n",
       "      <td>M</td>\n",
       "      <td>41</td>\n",
       "      <td>2020-02-22</td>\n",
       "      <td>confirmado</td>\n",
       "      <td>Italia</td>\n",
       "      <td>2020-02-21</td>\n",
       "      <td>NaT</td>\n",
       "    </tr>\n",
       "    <tr>\n",
       "      <th>2</th>\n",
       "      <td>20200316_3</td>\n",
       "      <td>Ciudad de México</td>\n",
       "      <td>M</td>\n",
       "      <td>59</td>\n",
       "      <td>2020-02-23</td>\n",
       "      <td>confirmado</td>\n",
       "      <td>Italia</td>\n",
       "      <td>2020-02-22</td>\n",
       "      <td>NaT</td>\n",
       "    </tr>\n",
       "    <tr>\n",
       "      <th>3</th>\n",
       "      <td>20200316_4</td>\n",
       "      <td>Coahuila</td>\n",
       "      <td>F</td>\n",
       "      <td>20</td>\n",
       "      <td>2020-02-27</td>\n",
       "      <td>confirmado</td>\n",
       "      <td>Italia</td>\n",
       "      <td>2020-02-25</td>\n",
       "      <td>NaT</td>\n",
       "    </tr>\n",
       "    <tr>\n",
       "      <th>4</th>\n",
       "      <td>20200316_5</td>\n",
       "      <td>Chiapas</td>\n",
       "      <td>F</td>\n",
       "      <td>18</td>\n",
       "      <td>2020-02-25</td>\n",
       "      <td>confirmado</td>\n",
       "      <td>Italia</td>\n",
       "      <td>2020-02-25</td>\n",
       "      <td>NaT</td>\n",
       "    </tr>\n",
       "  </tbody>\n",
       "</table>\n",
       "</div>"
      ],
      "text/plain": [
       "  pseudo_indice            estado sexo  edad fecha_inicio_sintomas  \\\n",
       "0    20200316_1  Ciudad de México    M    35            2020-02-22   \n",
       "1    20200316_2           Sinaloa    M    41            2020-02-22   \n",
       "2    20200316_3  Ciudad de México    M    59            2020-02-23   \n",
       "3    20200316_4          Coahuila    F    20            2020-02-27   \n",
       "4    20200316_5           Chiapas    F    18            2020-02-25   \n",
       "\n",
       "    id_rt-pcr procedencia fecha_llegada_mx fecha_caso_nuevo  \n",
       "0  confirmado      Italia       2020-02-22              NaT  \n",
       "1  confirmado      Italia       2020-02-21              NaT  \n",
       "2  confirmado      Italia       2020-02-22              NaT  \n",
       "3  confirmado      Italia       2020-02-25              NaT  \n",
       "4  confirmado      Italia       2020-02-25              NaT  "
      ]
     },
     "execution_count": 12,
     "metadata": {},
     "output_type": "execute_result"
    }
   ],
   "source": [
    "df_completa.head()"
   ]
  },
  {
   "cell_type": "markdown",
   "metadata": {},
   "source": [
    "Crear diccionario de fechas-tablas"
   ]
  },
  {
   "cell_type": "code",
   "execution_count": 18,
   "metadata": {},
   "outputs": [],
   "source": [
    "df_info = pd.read_csv('../datos/tablas_procesadas/info_tablas.tsv',\n",
    "                      sep='\\t',\n",
    "                      parse_dates=['fecha'])"
   ]
  },
  {
   "cell_type": "code",
   "execution_count": 19,
   "metadata": {},
   "outputs": [],
   "source": [
    "dict_df = create_dict(df_info)"
   ]
  },
  {
   "cell_type": "markdown",
   "metadata": {},
   "source": [
    "## Resultados"
   ]
  },
  {
   "cell_type": "markdown",
   "metadata": {},
   "source": [
    "### 1. Descargar archivos"
   ]
  },
  {
   "cell_type": "code",
   "execution_count": null,
   "metadata": {},
   "outputs": [],
   "source": [
    "url = 'https://www.gob.mx/salud/documentos/coronavirus-covid-19-comunicado-tecnico-diario-238449'\n",
    "extract_documents(url, outdir='../datos/ssalud_pdf')"
   ]
  },
  {
   "cell_type": "markdown",
   "metadata": {},
   "source": [
    "### 2. Procesar el `pdf` y convertir en `tsv`."
   ]
  },
  {
   "cell_type": "markdown",
   "metadata": {
    "collapsed": "true"
   },
   "source": [
    "#### 2020-03-29"
   ]
  },
  {
   "cell_type": "raw",
   "metadata": {},
   "source": [
    "pdf = '../datos/ssalud_pdf/Tabla_casos_positivos_COVID-19_resultado_InDRE_2020.03.29.pdf'\n",
    "celdas_azules = '''769, 772, 776, 778, 781, 782, 785, 792, 794, 796, 798-803, \n",
    "                   805, 806, 808, 811, 813, 814, 821, 823, 824, 826-828, 830,\n",
    "                   831, 835, 837, 844-847, 850, 852, 854, 856, 861, 867, 868,\n",
    "                   870-873, 876-881, 885, 887-894, 896-898, 900-902, 904, 906,\n",
    "                   907, 909, 910, 911, 912, 913, 915-919, 921, 924, 926-932, 939-993'''\n",
    "\n",
    "save_name = '../datos/tablas_originales/20200329_positivos.tsv'\n",
    "\n",
    "save_tsv(pdf, save_name, celdas_azules)"
   ]
  },
  {
   "cell_type": "markdown",
   "metadata": {},
   "source": [
    "#### 2020-03-30"
   ]
  },
  {
   "cell_type": "code",
   "execution_count": 3,
   "metadata": {},
   "outputs": [
    {
     "name": "stdout",
     "output_type": "stream",
     "text": [
      "21 paginas\n"
     ]
    }
   ],
   "source": [
    "pdf = '../datos/ssalud_pdf/Tabla_casos_positivos_COVID-19_resultado_InDRE_2020.03.30.pdf'\n",
    "celdas_azules = '''963,976,978,982,985,987,988,994-996,1000,1003,1005,1006,1008-1094'''\n",
    "\n",
    "save_name = '../datos/tablas_originales/20200330_positivos.tsv'\n",
    "\n",
    "save_tsv(pdf, save_name, celdas_azules)"
   ]
  },
  {
   "cell_type": "code",
   "execution_count": 4,
   "metadata": {},
   "outputs": [
    {
     "name": "stdout",
     "output_type": "stream",
     "text": [
      "Converted:\n",
      "../datos/ssalud_pdf/Tabla_casos_positivos_COVID-19_resultado_InDRE_2020.03.30.pdf to\n",
      "../datos/tablas_originales/20200330_positivos.tsv\n"
     ]
    }
   ],
   "source": [
    "print(f'Converted:')\n",
    "print(f'{pdf} to')\n",
    "print(f'{save_name}')"
   ]
  },
  {
   "cell_type": "markdown",
   "metadata": {},
   "source": [
    "### 3. Agregar información a la tabla de relación fecha-archivo."
   ]
  },
  {
   "cell_type": "code",
   "execution_count": 5,
   "metadata": {},
   "outputs": [],
   "source": [
    "df_info = pd.read_csv('../datos/tablas_procesadas/info_tablas.tsv',\n",
    "                      sep='\\t',\n",
    "                      parse_dates=['fecha'])"
   ]
  },
  {
   "cell_type": "code",
   "execution_count": 6,
   "metadata": {},
   "outputs": [],
   "source": [
    "df_info = df_info.append({'fecha': datetime.datetime(2020,3,30), \n",
    "                          'pdf_original': pdf,\n",
    "                          'archivo_tsv': save_name}, ignore_index=True)"
   ]
  },
  {
   "cell_type": "code",
   "execution_count": 7,
   "metadata": {},
   "outputs": [],
   "source": [
    "df_info.to_csv('../datos/tablas_procesadas/info_tablas.tsv',\n",
    "               sep='\\t',\n",
    "               index=None)"
   ]
  },
  {
   "cell_type": "code",
   "execution_count": 8,
   "metadata": {},
   "outputs": [
    {
     "name": "stdout",
     "output_type": "stream",
     "text": [
      "Added:\n"
     ]
    }
   ],
   "source": [
    "print('Added:')"
   ]
  },
  {
   "cell_type": "code",
   "execution_count": 9,
   "metadata": {},
   "outputs": [
    {
     "data": {
      "text/html": [
       "<div>\n",
       "<style scoped>\n",
       "    .dataframe tbody tr th:only-of-type {\n",
       "        vertical-align: middle;\n",
       "    }\n",
       "\n",
       "    .dataframe tbody tr th {\n",
       "        vertical-align: top;\n",
       "    }\n",
       "\n",
       "    .dataframe thead th {\n",
       "        text-align: right;\n",
       "    }\n",
       "</style>\n",
       "<table border=\"1\" class=\"dataframe\">\n",
       "  <thead>\n",
       "    <tr style=\"text-align: right;\">\n",
       "      <th></th>\n",
       "      <th>fecha</th>\n",
       "      <th>pdf_original</th>\n",
       "      <th>archivo_tsv</th>\n",
       "    </tr>\n",
       "  </thead>\n",
       "  <tbody>\n",
       "    <tr>\n",
       "      <th>14</th>\n",
       "      <td>2020-03-30</td>\n",
       "      <td>../datos/ssalud_pdf/Tabla_casos_positivos_COVI...</td>\n",
       "      <td>../datos/tablas_originales/20200330_positivos.tsv</td>\n",
       "    </tr>\n",
       "  </tbody>\n",
       "</table>\n",
       "</div>"
      ],
      "text/plain": [
       "        fecha                                       pdf_original  \\\n",
       "14 2020-03-30  ../datos/ssalud_pdf/Tabla_casos_positivos_COVI...   \n",
       "\n",
       "                                          archivo_tsv  \n",
       "14  ../datos/tablas_originales/20200330_positivos.tsv  "
      ]
     },
     "execution_count": 9,
     "metadata": {},
     "output_type": "execute_result"
    }
   ],
   "source": [
    "df_info.tail(1)"
   ]
  },
  {
   "cell_type": "markdown",
   "metadata": {},
   "source": [
    "### 4. Actualizar tabla"
   ]
  },
  {
   "cell_type": "code",
   "execution_count": 13,
   "metadata": {},
   "outputs": [],
   "source": [
    "df_nuevo = update(df_info, df_completa)"
   ]
  },
  {
   "cell_type": "code",
   "execution_count": 14,
   "metadata": {},
   "outputs": [
    {
     "data": {
      "text/html": [
       "<div>\n",
       "<style scoped>\n",
       "    .dataframe tbody tr th:only-of-type {\n",
       "        vertical-align: middle;\n",
       "    }\n",
       "\n",
       "    .dataframe tbody tr th {\n",
       "        vertical-align: top;\n",
       "    }\n",
       "\n",
       "    .dataframe thead th {\n",
       "        text-align: right;\n",
       "    }\n",
       "</style>\n",
       "<table border=\"1\" class=\"dataframe\">\n",
       "  <thead>\n",
       "    <tr style=\"text-align: right;\">\n",
       "      <th></th>\n",
       "      <th>pseudo_indice</th>\n",
       "      <th>estado</th>\n",
       "      <th>sexo</th>\n",
       "      <th>edad</th>\n",
       "      <th>fecha_inicio_sintomas</th>\n",
       "      <th>id_rt-pcr</th>\n",
       "      <th>procedencia</th>\n",
       "      <th>fecha_llegada_mx</th>\n",
       "      <th>fecha_caso_nuevo</th>\n",
       "    </tr>\n",
       "  </thead>\n",
       "  <tbody>\n",
       "    <tr>\n",
       "      <th>0</th>\n",
       "      <td>20200316_1</td>\n",
       "      <td>Ciudad de México</td>\n",
       "      <td>M</td>\n",
       "      <td>35</td>\n",
       "      <td>2020-02-22</td>\n",
       "      <td>confirmado</td>\n",
       "      <td>Italia</td>\n",
       "      <td>2020-02-22</td>\n",
       "      <td>NaT</td>\n",
       "    </tr>\n",
       "    <tr>\n",
       "      <th>1</th>\n",
       "      <td>20200316_2</td>\n",
       "      <td>Sinaloa</td>\n",
       "      <td>M</td>\n",
       "      <td>41</td>\n",
       "      <td>2020-02-22</td>\n",
       "      <td>confirmado</td>\n",
       "      <td>Italia</td>\n",
       "      <td>2020-02-21</td>\n",
       "      <td>NaT</td>\n",
       "    </tr>\n",
       "    <tr>\n",
       "      <th>2</th>\n",
       "      <td>20200316_3</td>\n",
       "      <td>Ciudad de México</td>\n",
       "      <td>M</td>\n",
       "      <td>59</td>\n",
       "      <td>2020-02-23</td>\n",
       "      <td>confirmado</td>\n",
       "      <td>Italia</td>\n",
       "      <td>2020-02-22</td>\n",
       "      <td>NaT</td>\n",
       "    </tr>\n",
       "    <tr>\n",
       "      <th>3</th>\n",
       "      <td>20200316_4</td>\n",
       "      <td>Coahuila</td>\n",
       "      <td>F</td>\n",
       "      <td>20</td>\n",
       "      <td>2020-02-27</td>\n",
       "      <td>confirmado</td>\n",
       "      <td>Italia</td>\n",
       "      <td>2020-02-25</td>\n",
       "      <td>NaT</td>\n",
       "    </tr>\n",
       "    <tr>\n",
       "      <th>4</th>\n",
       "      <td>20200316_5</td>\n",
       "      <td>Chiapas</td>\n",
       "      <td>F</td>\n",
       "      <td>18</td>\n",
       "      <td>2020-02-25</td>\n",
       "      <td>confirmado</td>\n",
       "      <td>Italia</td>\n",
       "      <td>2020-02-25</td>\n",
       "      <td>NaT</td>\n",
       "    </tr>\n",
       "    <tr>\n",
       "      <th>...</th>\n",
       "      <td>...</td>\n",
       "      <td>...</td>\n",
       "      <td>...</td>\n",
       "      <td>...</td>\n",
       "      <td>...</td>\n",
       "      <td>...</td>\n",
       "      <td>...</td>\n",
       "      <td>...</td>\n",
       "      <td>...</td>\n",
       "    </tr>\n",
       "    <tr>\n",
       "      <th>1090</th>\n",
       "      <td>20200330_1090</td>\n",
       "      <td>Coahuila</td>\n",
       "      <td>M</td>\n",
       "      <td>48</td>\n",
       "      <td>2020-03-29</td>\n",
       "      <td>confirmado</td>\n",
       "      <td>Contacto</td>\n",
       "      <td>NaT</td>\n",
       "      <td>2020-03-30</td>\n",
       "    </tr>\n",
       "    <tr>\n",
       "      <th>1091</th>\n",
       "      <td>20200330_1091</td>\n",
       "      <td>Ciudad de México</td>\n",
       "      <td>F</td>\n",
       "      <td>77</td>\n",
       "      <td>2020-03-13</td>\n",
       "      <td>confirmado</td>\n",
       "      <td>España</td>\n",
       "      <td>NaT</td>\n",
       "      <td>2020-03-30</td>\n",
       "    </tr>\n",
       "    <tr>\n",
       "      <th>1092</th>\n",
       "      <td>20200330_1092</td>\n",
       "      <td>Ciudad de México</td>\n",
       "      <td>F</td>\n",
       "      <td>43</td>\n",
       "      <td>2020-03-16</td>\n",
       "      <td>confirmado</td>\n",
       "      <td>España</td>\n",
       "      <td>NaT</td>\n",
       "      <td>2020-03-30</td>\n",
       "    </tr>\n",
       "    <tr>\n",
       "      <th>1093</th>\n",
       "      <td>20200330_1093</td>\n",
       "      <td>Ciudad de México</td>\n",
       "      <td>M</td>\n",
       "      <td>47</td>\n",
       "      <td>2020-03-14</td>\n",
       "      <td>confirmado</td>\n",
       "      <td>Contacto</td>\n",
       "      <td>NaT</td>\n",
       "      <td>2020-03-30</td>\n",
       "    </tr>\n",
       "    <tr>\n",
       "      <th>1094</th>\n",
       "      <td>20200330_1094</td>\n",
       "      <td>Jalisco</td>\n",
       "      <td>M</td>\n",
       "      <td>37</td>\n",
       "      <td>2020-03-20</td>\n",
       "      <td>confirmado</td>\n",
       "      <td>Contacto</td>\n",
       "      <td>NaT</td>\n",
       "      <td>2020-03-30</td>\n",
       "    </tr>\n",
       "  </tbody>\n",
       "</table>\n",
       "<p>1098 rows × 9 columns</p>\n",
       "</div>"
      ],
      "text/plain": [
       "      pseudo_indice            estado sexo  edad fecha_inicio_sintomas  \\\n",
       "0        20200316_1  Ciudad de México    M    35            2020-02-22   \n",
       "1        20200316_2           Sinaloa    M    41            2020-02-22   \n",
       "2        20200316_3  Ciudad de México    M    59            2020-02-23   \n",
       "3        20200316_4          Coahuila    F    20            2020-02-27   \n",
       "4        20200316_5           Chiapas    F    18            2020-02-25   \n",
       "...             ...               ...  ...   ...                   ...   \n",
       "1090  20200330_1090          Coahuila    M    48            2020-03-29   \n",
       "1091  20200330_1091  Ciudad de México    F    77            2020-03-13   \n",
       "1092  20200330_1092  Ciudad de México    F    43            2020-03-16   \n",
       "1093  20200330_1093  Ciudad de México    M    47            2020-03-14   \n",
       "1094  20200330_1094           Jalisco    M    37            2020-03-20   \n",
       "\n",
       "       id_rt-pcr procedencia fecha_llegada_mx fecha_caso_nuevo  \n",
       "0     confirmado      Italia       2020-02-22              NaT  \n",
       "1     confirmado      Italia       2020-02-21              NaT  \n",
       "2     confirmado      Italia       2020-02-22              NaT  \n",
       "3     confirmado      Italia       2020-02-25              NaT  \n",
       "4     confirmado      Italia       2020-02-25              NaT  \n",
       "...          ...         ...              ...              ...  \n",
       "1090  confirmado    Contacto              NaT       2020-03-30  \n",
       "1091  confirmado      España              NaT       2020-03-30  \n",
       "1092  confirmado      España              NaT       2020-03-30  \n",
       "1093  confirmado    Contacto              NaT       2020-03-30  \n",
       "1094  confirmado    Contacto              NaT       2020-03-30  \n",
       "\n",
       "[1098 rows x 9 columns]"
      ]
     },
     "execution_count": 14,
     "metadata": {},
     "output_type": "execute_result"
    }
   ],
   "source": [
    "df_nuevo"
   ]
  },
  {
   "cell_type": "code",
   "execution_count": 15,
   "metadata": {},
   "outputs": [
    {
     "name": "stdout",
     "output_type": "stream",
     "text": [
      "Se agregaron 101 entradas.\n"
     ]
    }
   ],
   "source": [
    "diff = len(df_nuevo) - len(df_completa)\n",
    "print(f'Se agregaron {diff} entradas.')"
   ]
  },
  {
   "cell_type": "code",
   "execution_count": 16,
   "metadata": {},
   "outputs": [
    {
     "name": "stdout",
     "output_type": "stream",
     "text": [
      "Se actualizó tabla en: ../datos/tablas_procesadas/tabla_completa.tsv\n"
     ]
    }
   ],
   "source": [
    "save_as = '../datos/tablas_procesadas/tabla_completa.tsv'\n",
    "df_nuevo.to_csv(save_as,\n",
    "                sep='\\t',\n",
    "                index=None)\n",
    "\n",
    "print(f'Se actualizó tabla en: {save_as}')"
   ]
  },
  {
   "cell_type": "markdown",
   "metadata": {},
   "source": [
    "### 5. Revisión de inconsistencias"
   ]
  },
  {
   "cell_type": "code",
   "execution_count": 20,
   "metadata": {},
   "outputs": [
    {
     "name": "stdout",
     "output_type": "stream",
     "text": [
      "16-03-2020 a 17-03-2020: ✓\n",
      "17-03-2020 a 18-03-2020: ✓\n",
      "18-03-2020 a 19-03-2020: ✓\n",
      "19-03-2020 a 20-03-2020: inconsistente por -1\n",
      "20-03-2020 a 21-03-2020: ✓\n",
      "21-03-2020 a 22-03-2020: inconsistente por 4\n",
      "22-03-2020 a 23-03-2020: ✓\n",
      "23-03-2020 a 24-03-2020: ✓\n",
      "24-03-2020 a 25-03-2020: ✓\n",
      "25-03-2020 a 26-03-2020: inconsistente por -1\n",
      "26-03-2020 a 27-03-2020: inconsistente por -1\n",
      "27-03-2020 a 28-03-2020: inconsistente por -1\n",
      "28-03-2020 a 29-03-2020: ✓\n",
      "29-03-2020 a 30-03-2020: ✓\n"
     ]
    }
   ],
   "source": [
    "tablas_inc = inconsistencias(dict_df)"
   ]
  },
  {
   "cell_type": "code",
   "execution_count": 22,
   "metadata": {},
   "outputs": [
    {
     "name": "stdout",
     "output_type": "stream",
     "text": [
      "Comparación más reciente: 2020-03-29 a 2020-03-30\n"
     ]
    }
   ],
   "source": [
    "ultima = sorted(df_info['fecha'])[-1].strftime('%Y-%m-%d')\n",
    "penultima = sorted(df_info['fecha'])[-2].strftime('%Y-%m-%d')\n",
    "\n",
    "print('Comparación más reciente: {} a {}'.format(penultima, ultima))"
   ]
  },
  {
   "cell_type": "code",
   "execution_count": 23,
   "metadata": {},
   "outputs": [],
   "source": [
    "tablas_inc[-1].to_csv('../datos/tablas_procesadas/err_log/{}_{}.tsv'.format(penultima, ultima),\n",
    "                      sep='\\t',\n",
    "                      index=None)"
   ]
  },
  {
   "cell_type": "code",
   "execution_count": 24,
   "metadata": {},
   "outputs": [
    {
     "data": {
      "text/html": [
       "<div>\n",
       "<style scoped>\n",
       "    .dataframe tbody tr th:only-of-type {\n",
       "        vertical-align: middle;\n",
       "    }\n",
       "\n",
       "    .dataframe tbody tr th {\n",
       "        vertical-align: top;\n",
       "    }\n",
       "\n",
       "    .dataframe thead th {\n",
       "        text-align: right;\n",
       "    }\n",
       "</style>\n",
       "<table border=\"1\" class=\"dataframe\">\n",
       "  <thead>\n",
       "    <tr style=\"text-align: right;\">\n",
       "      <th></th>\n",
       "      <th>estado</th>\n",
       "      <th>sexo</th>\n",
       "      <th>edad</th>\n",
       "      <th>fecha_inicio_sintomas</th>\n",
       "      <th>id_rt-pcr</th>\n",
       "      <th>procedencia</th>\n",
       "      <th>fecha_llegada_mx</th>\n",
       "      <th>casos_nuevos</th>\n",
       "      <th>pseudo_indice</th>\n",
       "      <th>duplicado</th>\n",
       "    </tr>\n",
       "  </thead>\n",
       "  <tbody>\n",
       "    <tr>\n",
       "      <th>585</th>\n",
       "      <td>Chiapas</td>\n",
       "      <td>F</td>\n",
       "      <td>32</td>\n",
       "      <td>2020-03-20</td>\n",
       "      <td>confirmado</td>\n",
       "      <td>Estados Unidos</td>\n",
       "      <td>2020-03-07</td>\n",
       "      <td>2020-03-27 00:00:00</td>\n",
       "      <td>20200327_585</td>\n",
       "      <td>False</td>\n",
       "    </tr>\n",
       "  </tbody>\n",
       "</table>\n",
       "</div>"
      ],
      "text/plain": [
       "      estado sexo  edad fecha_inicio_sintomas   id_rt-pcr     procedencia  \\\n",
       "585  Chiapas    F    32            2020-03-20  confirmado  Estados Unidos   \n",
       "\n",
       "    fecha_llegada_mx         casos_nuevos pseudo_indice  duplicado  \n",
       "585       2020-03-07  2020-03-27 00:00:00  20200327_585      False  "
      ]
     },
     "execution_count": 24,
     "metadata": {},
     "output_type": "execute_result"
    }
   ],
   "source": [
    "tablas_inc[-1]"
   ]
  },
  {
   "cell_type": "code",
   "execution_count": null,
   "metadata": {},
   "outputs": [],
   "source": []
  }
 ],
 "metadata": {
  "kernelspec": {
   "display_name": "Python 3",
   "language": "python",
   "name": "python3"
  },
  "language_info": {
   "codemirror_mode": {
    "name": "ipython",
    "version": 3
   },
   "file_extension": ".py",
   "mimetype": "text/x-python",
   "name": "python",
   "nbconvert_exporter": "python",
   "pygments_lexer": "ipython3",
   "version": "3.6.10"
  }
 },
 "nbformat": 4,
 "nbformat_minor": 4
}
