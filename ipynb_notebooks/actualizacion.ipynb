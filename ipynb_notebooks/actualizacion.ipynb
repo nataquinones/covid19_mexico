{
 "cells": [
  {
   "cell_type": "markdown",
   "metadata": {},
   "source": [
    "# Actualizar"
   ]
  },
  {
   "cell_type": "code",
   "execution_count": 11,
   "metadata": {},
   "outputs": [],
   "source": [
    "import os\n",
    "import sys\n",
    "\n",
    "module_path = os.path.abspath(os.path.join('..'))\n",
    "if module_path not in sys.path:\n",
    "    sys.path.append(module_path)\n",
    "    \n",
    "from scripts import update\n",
    "from scripts import plots"
   ]
  },
  {
   "cell_type": "markdown",
   "metadata": {},
   "source": [
    "## Fecha"
   ]
  },
  {
   "cell_type": "code",
   "execution_count": 2,
   "metadata": {},
   "outputs": [
    {
     "name": "stdout",
     "output_type": "stream",
     "text": [
      "Fecha (aaaa-mm-dd):\n"
     ]
    },
    {
     "name": "stdin",
     "output_type": "stream",
     "text": [
      " 2020-04-05\n"
     ]
    }
   ],
   "source": [
    "fecha = update.fecha()"
   ]
  },
  {
   "cell_type": "markdown",
   "metadata": {},
   "source": [
    "## Descargar archivos"
   ]
  },
  {
   "cell_type": "code",
   "execution_count": 3,
   "metadata": {},
   "outputs": [],
   "source": [
    "outdir_pdf = '../datos/ssalud_pdf'\n",
    "ss_url = 'https://www.gob.mx/salud/documentos/coronavirus-covid-19-comunicado-tecnico-diario-238449'"
   ]
  },
  {
   "cell_type": "code",
   "execution_count": null,
   "metadata": {},
   "outputs": [],
   "source": [
    "update.extract_documents(ss_url, outdir=outdir_pdf)"
   ]
  },
  {
   "cell_type": "markdown",
   "metadata": {},
   "source": [
    "## Convertir pdf de casos confirmados"
   ]
  },
  {
   "cell_type": "code",
   "execution_count": 4,
   "metadata": {},
   "outputs": [],
   "source": [
    "outdir_tsv = '../datos/tablas_positivos'\n",
    "\n",
    "save_name = '{}/{}_positivos.tsv'.format(outdir_tsv, fecha.strftime('%Y%m%d'))\n",
    "pdf = '{}/Tabla_casos_positivos_COVID-19_resultado_InDRE_{}.pdf'.format(outdir_pdf, fecha.strftime('%Y.%m.%d'))"
   ]
  },
  {
   "cell_type": "markdown",
   "metadata": {
    "collapsed": "true"
   },
   "source": [
    "### 2020-04-02"
   ]
  },
  {
   "cell_type": "raw",
   "metadata": {},
   "source": [
    "celdas_azules = '''\n",
    "                659,946,1136,1148,1210,1220,1224,1228,1238,1240,1242,\n",
    "                1246,1248-1250,1255,1264,1266,1267,1270-1273,1275,1276,1278,\n",
    "                1282-1288,1290,1293,1294,1311,1313-1316,1318,1323-1332,1349,\n",
    "                1351,1354,1356,1361,1376,1413,1422,1423,1438-1510\n",
    "                '''\n",
    "df_confirmados = update.parse_pdf(pdf, save_name=save_name, casos_nuevos=celdas_azules)"
   ]
  },
  {
   "cell_type": "markdown",
   "metadata": {
    "collapsed": "true"
   },
   "source": [
    "### 2020-04-03"
   ]
  },
  {
   "cell_type": "raw",
   "metadata": {},
   "source": [
    "celdas_azules = '''\n",
    "                47,110,221,416,948,1007-1013,1158-1162,1345-1347,1350,1454,1455,\n",
    "                1457,1458,1460,1461,1463-1465,1475,1479,1483-1485,1487,1490,1492,\n",
    "                1496,1499,1501,1507-1512,1514,1515,1517,1520-1522,1524,1526-1529,\n",
    "                1531-1539,1541,1544,1549,1556-1560,1562,1564,1566-1568,1570-1579,\n",
    "                1594,1595,1599,1603-1688\n",
    "                '''\n",
    "df_confirmados = update.parse_pdf(pdf, save_name=save_name, casos_nuevos=celdas_azules)"
   ]
  },
  {
   "cell_type": "markdown",
   "metadata": {
    "collapsed": "true"
   },
   "source": [
    "### 2020-04-04"
   ]
  },
  {
   "cell_type": "raw",
   "metadata": {},
   "source": [
    "celdas_azules = '''\n",
    "                568,1005,1006,1157,1286,1346-1348,1519,1530,1561,1578,1614,1616,\n",
    "                1626,1643,1678,1689-1695,1710-1890\n",
    "                '''\n",
    "df_confirmados = update.parse_pdf(pdf, save_name=save_name, casos_nuevos=celdas_azules, exception={'verify_integrity': False})\n",
    "\n",
    "# this file has something strange, it reads duplicated values de lines 1801-1852\n",
    "\n",
    "import pandas as pd\n",
    "\n",
    "df = pd.read_csv('../datos/tablas_originales/20200404_positivos.tsv',\n",
    "                 sep='\\t',\n",
    "                 index_col=0)\n",
    "\n",
    "# len(df) = 1942\n",
    "# df.index[-1] = 1890\n",
    "\n",
    "df = df.reset_index().drop_duplicates(subset='index',\n",
    "                                      keep='first').set_index('index')\n",
    "\n",
    "df.index.name = None\n",
    "\n",
    "# len(df) = 1890\n",
    "\n",
    "df.to_csv(save_name,\n",
    "          sep='\\t',\n",
    "          index=True)"
   ]
  },
  {
   "cell_type": "markdown",
   "metadata": {
    "collapsed": "true"
   },
   "source": [
    "### 2020-05-05"
   ]
  },
  {
   "cell_type": "raw",
   "metadata": {},
   "source": [
    "celdas_azules = '''\n",
    "                1656,1660,1662,1671,1691-1693,1696,1697,1705,1711,1720-1723,1728,1732-1734,\n",
    "                1748,1749,1752,1757,1764,1767,1773,1775,1778,1781,1784,1786,1798,1808,1813,\n",
    "                1817,1830,1842-1844,1847,1854,1864,1871,1872,1874,1876,1877,1879,1881,1888,\n",
    "                1890-1892,1895,1897-1899,1902,1903,1909,1912-1914,1916,1917,1919,1920,1923-1927,\n",
    "                1929-1935,1938-1942,1945,1946,1948-1951,1955-1958,1960-1963,1965-1968,1970-1979,\n",
    "                1981-1983,1987,1989-1997,2003-2005,2007,2008,2017-2143\n",
    "                '''\n",
    "df_confirmados = update.parse_pdf(pdf, save_name=save_name, casos_nuevos=celdas_azules)"
   ]
  },
  {
   "cell_type": "markdown",
   "metadata": {},
   "source": [
    "## Actualizar tabla de relación fecha-archivo"
   ]
  },
  {
   "cell_type": "code",
   "execution_count": null,
   "metadata": {},
   "outputs": [],
   "source": [
    "info_path = '../datos/tablas_procesadas/info_tablas.tsv'\n",
    "\n",
    "df_info = update.update_info(info_path, fecha, pdf, save_name)"
   ]
  },
  {
   "cell_type": "markdown",
   "metadata": {},
   "source": [
    "## Datos generales del comunicado técnico"
   ]
  },
  {
   "cell_type": "code",
   "execution_count": null,
   "metadata": {},
   "outputs": [],
   "source": [
    "comtec_path = '../datos/tablas_comunicado/'\n",
    "\n",
    "df_comtec = update.comunicado_tecnico(fecha, save=comtec_path)"
   ]
  },
  {
   "cell_type": "markdown",
   "metadata": {},
   "source": [
    "## Figuras"
   ]
  },
  {
   "cell_type": "code",
   "execution_count": 8,
   "metadata": {},
   "outputs": [],
   "source": [
    "save_figures = '../figuras'\n",
    "save_current = '../docs/assets/figures'"
   ]
  },
  {
   "cell_type": "code",
   "execution_count": null,
   "metadata": {},
   "outputs": [],
   "source": [
    "update.html_table(df_comtec, save=save_figures, current_html=save_current)\n",
    "plots.plot_cofirmados('../datos/tablas_comunicado/', save=save_figures, current_html=save_current)\n",
    "plots.plot_map(save_name, fecha, save=save_figures, current_html=save_current)"
   ]
  }
 ],
 "metadata": {
  "kernelspec": {
   "display_name": "Python 3",
   "language": "python",
   "name": "python3"
  },
  "language_info": {
   "codemirror_mode": {
    "name": "ipython",
    "version": 3
   },
   "file_extension": ".py",
   "mimetype": "text/x-python",
   "name": "python",
   "nbconvert_exporter": "python",
   "pygments_lexer": "ipython3",
   "version": "3.6.10"
  }
 },
 "nbformat": 4,
 "nbformat_minor": 4
}
